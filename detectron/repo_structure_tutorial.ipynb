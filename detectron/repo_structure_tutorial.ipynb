{
 "cells": [
  {
   "cell_type": "markdown",
   "metadata": {
    "collapsed": true,
    "pycharm": {
     "name": "#%% md\n"
    }
   },
   "source": [
    "# Data generation from nnrd to `.png` images and `.png` segmentation masks"
   ]
  },
  {
   "cell_type": "code",
   "execution_count": 1,
   "outputs": [],
   "source": [
    "import glob\n",
    "from detectron.dataset_new_data import create_config_from_params, NrrdToTrainingTestSplitter, create_dataset"
   ],
   "metadata": {
    "collapsed": false,
    "pycharm": {
     "name": "#%%\n"
    }
   }
  },
  {
   "cell_type": "markdown",
   "source": [
    "Set here the variable names for config generation"
   ],
   "metadata": {
    "collapsed": false,
    "pycharm": {
     "name": "#%% md\n"
    }
   }
  },
  {
   "cell_type": "code",
   "execution_count": 2,
   "outputs": [],
   "source": [
    "op_name = \"20190917\"\n",
    "path_location = \"crossval_full\"\n",
    "model_pth_name = \"model_final_FIRST_INCISION_20190917.pth\"\n",
    "op_phase = \"FIRST_INCISION\""
   ],
   "metadata": {
    "collapsed": false,
    "pycharm": {
     "name": "#%%\n"
    }
   }
  },
  {
   "cell_type": "code",
   "execution_count": 3,
   "outputs": [],
   "source": [
    "config = create_config_from_params(op_name=op_name,\n",
    "                                       path_location=path_location,\n",
    "                                       op_phase=op_phase,\n",
    "                                       train=False,\n",
    "                                       save_img_and_mask=True)"
   ],
   "metadata": {
    "collapsed": false,
    "pycharm": {
     "name": "#%%\n"
    }
   }
  },
  {
   "cell_type": "markdown",
   "source": [
    "Get the corresponding nrrds from `data/nrrd_to_process` folder by separating them into original images and annotations"
   ],
   "metadata": {
    "collapsed": false,
    "pycharm": {
     "name": "#%% md\n"
    }
   }
  },
  {
   "cell_type": "code",
   "execution_count": 8,
   "outputs": [
    {
     "name": "stdout",
     "output_type": "stream",
     "text": [
      "11\n",
      "11\n"
     ]
    }
   ],
   "source": [
    "folder_data = glob.glob(config['CREATE_DATASET'][\"FOLDER_DATA_NRRD\"])\n",
    "splitter_dataset_object = NrrdToTrainingTestSplitter()\n",
    "images, mask = splitter_dataset_object.get_mask_images(folder_data)"
   ],
   "metadata": {
    "collapsed": false,
    "pycharm": {
     "name": "#%%\n"
    }
   }
  },
  {
   "cell_type": "markdown",
   "source": [
    "Extracting images from nnrd and saving it to `path_location`/`op_name`/val (if `train=False` in `config`, else in `path_location`/`op_name`/train)\n",
    "\n",
    "Extracting masks images from nnrd and saving it to `path_location`/`op_name`/masks_val (if `train=False` in `config`, else in `path_location`/`op_name`/masks).\n",
    "The names corresponds to the XXXXXXXX_`op_phase`_image sequence number_layer_`layer_encoding`\n",
    "`layer_encoding` - is the encoded as int name of the label, that is specified in `detectron/mapping_layers.py` (f.e for First incision it is `mapping_layers` dict.\n",
    "\n",
    "By setting the `config[\"CREATE_DATASET\"]['CREATE_DESCRIPTION_FILE']` parameter you specify whether the description `.json` file will be created, that is needed for training."
   ],
   "metadata": {
    "collapsed": false,
    "pycharm": {
     "name": "#%% md\n"
    }
   }
  },
  {
   "cell_type": "code",
   "execution_count": 6,
   "outputs": [
    {
     "ename": "NameError",
     "evalue": "name 'config' is not defined",
     "output_type": "error",
     "traceback": [
      "\u001B[0;31m---------------------------------------------------------------------------\u001B[0m",
      "\u001B[0;31mNameError\u001B[0m                                 Traceback (most recent call last)",
      "\u001B[0;32m<ipython-input-6-095a58fd3690>\u001B[0m in \u001B[0;36m<module>\u001B[0;34m\u001B[0m\n\u001B[0;32m----> 1\u001B[0;31m \u001B[0mconfig\u001B[0m\u001B[0;34m[\u001B[0m\u001B[0;34m\"CREATE_DATASET\"\u001B[0m\u001B[0;34m]\u001B[0m\u001B[0;34m[\u001B[0m\u001B[0;34m'CREATE_DESCRIPTION_FILE'\u001B[0m\u001B[0;34m]\u001B[0m \u001B[0;34m=\u001B[0m \u001B[0;32mTrue\u001B[0m\u001B[0;34m\u001B[0m\u001B[0;34m\u001B[0m\u001B[0m\n\u001B[0m\u001B[1;32m      2\u001B[0m \u001B[0mcreate_dataset\u001B[0m\u001B[0;34m(\u001B[0m\u001B[0mconfig\u001B[0m\u001B[0;34m=\u001B[0m\u001B[0mconfig\u001B[0m\u001B[0;34m,\u001B[0m \u001B[0mimages\u001B[0m\u001B[0;34m=\u001B[0m\u001B[0mimages\u001B[0m\u001B[0;34m[\u001B[0m\u001B[0;34m:\u001B[0m\u001B[0;36m1\u001B[0m\u001B[0;34m]\u001B[0m\u001B[0;34m,\u001B[0m \u001B[0mmask\u001B[0m\u001B[0;34m=\u001B[0m\u001B[0mmask\u001B[0m\u001B[0;34m[\u001B[0m\u001B[0;34m:\u001B[0m\u001B[0;36m1\u001B[0m\u001B[0;34m]\u001B[0m\u001B[0;34m)\u001B[0m\u001B[0;34m\u001B[0m\u001B[0;34m\u001B[0m\u001B[0m\n\u001B[1;32m      3\u001B[0m \u001B[0;34m\u001B[0m\u001B[0m\n",
      "\u001B[0;31mNameError\u001B[0m: name 'config' is not defined"
     ]
    }
   ],
   "source": [
    "config[\"CREATE_DATASET\"]['CREATE_DESCRIPTION_FILE'] = True\n",
    "create_dataset(config=config, images=images[:1], mask=mask[:1])\n"
   ],
   "metadata": {
    "collapsed": false,
    "pycharm": {
     "name": "#%%\n"
    }
   }
  },
  {
   "cell_type": "markdown",
   "source": [
    "# Training a network"
   ],
   "metadata": {
    "collapsed": false,
    "pycharm": {
     "name": "#%% md\n"
    }
   }
  },
  {
   "cell_type": "markdown",
   "source": [
    "Requirements for training a detectron model is having a dir with images and a descirption file.\n",
    "The description file (f.e `dataset_registration_detectron2_multilabeled_all_layers.json`) represents the ground truth annotations of the images in the same dir.\n",
    "\n",
    "Before the training starts this file will be registred by the `register_dataset_and_metadata()`"
   ],
   "metadata": {
    "collapsed": false,
    "pycharm": {
     "name": "#%% md\n"
    }
   }
  },
  {
   "cell_type": "code",
   "execution_count": 5,
   "outputs": [
    {
     "ename": "AssertionError",
     "evalue": "Dataset 'resection_train' is already registered!",
     "output_type": "error",
     "traceback": [
      "\u001B[0;31m---------------------------------------------------------------------------\u001B[0m",
      "\u001B[0;31mAssertionError\u001B[0m                            Traceback (most recent call last)",
      "\u001B[0;32m<ipython-input-5-3e25b5e8bd7d>\u001B[0m in \u001B[0;36m<module>\u001B[0;34m\u001B[0m\n\u001B[1;32m      1\u001B[0m \u001B[0;32mfrom\u001B[0m \u001B[0mdetectron\u001B[0m\u001B[0;34m.\u001B[0m\u001B[0mdetectron2_run\u001B[0m \u001B[0;32mimport\u001B[0m \u001B[0mstart_training\u001B[0m\u001B[0;34m\u001B[0m\u001B[0;34m\u001B[0m\u001B[0m\n\u001B[0;32m----> 2\u001B[0;31m start_training(yaml_config=config,\n\u001B[0m\u001B[1;32m      3\u001B[0m                    \u001B[0mtrain\u001B[0m\u001B[0;34m=\u001B[0m\u001B[0;32mFalse\u001B[0m\u001B[0;34m,\u001B[0m\u001B[0;34m\u001B[0m\u001B[0;34m\u001B[0m\u001B[0m\n\u001B[1;32m      4\u001B[0m                    validation=True)\n",
      "\u001B[0;32m~/Github/chirurgie_research/detectron/detectron2_run.py\u001B[0m in \u001B[0;36mstart_training\u001B[0;34m(yaml_config, train, validation)\u001B[0m\n\u001B[1;32m    290\u001B[0m     \u001B[0mstarter\u001B[0m \u001B[0;34m=\u001B[0m \u001B[0mStartTraining\u001B[0m\u001B[0;34m(\u001B[0m\u001B[0myaml_config\u001B[0m\u001B[0;34m)\u001B[0m\u001B[0;34m\u001B[0m\u001B[0;34m\u001B[0m\u001B[0m\n\u001B[1;32m    291\u001B[0m     \u001B[0mevaluation_obj\u001B[0m \u001B[0;34m=\u001B[0m \u001B[0meval\u001B[0m\u001B[0;34m.\u001B[0m\u001B[0mEvaluation\u001B[0m\u001B[0;34m(\u001B[0m\u001B[0myaml_config\u001B[0m\u001B[0;34m)\u001B[0m\u001B[0;34m\u001B[0m\u001B[0;34m\u001B[0m\u001B[0m\n\u001B[0;32m--> 292\u001B[0;31m     \u001B[0minstruments_metadata\u001B[0m \u001B[0;34m=\u001B[0m \u001B[0mstarter\u001B[0m\u001B[0;34m.\u001B[0m\u001B[0mregister_dataset_and_metadata\u001B[0m\u001B[0;34m(\u001B[0m\u001B[0mpath_to_data\u001B[0m\u001B[0;34m,\u001B[0m \u001B[0mclasses_list\u001B[0m\u001B[0;34m=\u001B[0m\u001B[0mclasses_list\u001B[0m\u001B[0;34m)\u001B[0m\u001B[0;34m\u001B[0m\u001B[0;34m\u001B[0m\u001B[0m\n\u001B[0m\u001B[1;32m    293\u001B[0m     \u001B[0mname_op\u001B[0m \u001B[0;34m=\u001B[0m \u001B[0myaml_config\u001B[0m\u001B[0;34m[\u001B[0m\u001B[0;34m\"OP_NAME\"\u001B[0m\u001B[0;34m]\u001B[0m\u001B[0;34m\u001B[0m\u001B[0;34m\u001B[0m\u001B[0m\n\u001B[1;32m    294\u001B[0m     starter.check_registration(instruments_metadata, path_to_training_data,\n",
      "\u001B[0;32m~/Github/chirurgie_research/detectron/detectron2_run.py\u001B[0m in \u001B[0;36mregister_dataset_and_metadata\u001B[0;34m(self, path_to_data, classes_list)\u001B[0m\n\u001B[1;32m    182\u001B[0m             \u001B[0;32mfor\u001B[0m \u001B[0md\u001B[0m \u001B[0;32min\u001B[0m \u001B[0;34m[\u001B[0m\u001B[0;34m\"train\"\u001B[0m\u001B[0;34m,\u001B[0m \u001B[0;34m\"val\"\u001B[0m\u001B[0;34m]\u001B[0m\u001B[0;34m:\u001B[0m\u001B[0;34m\u001B[0m\u001B[0;34m\u001B[0m\u001B[0m\n\u001B[1;32m    183\u001B[0m                 \u001B[0;31m# for d in [\"plane_train\", \"plane_val\"]:\u001B[0m\u001B[0;34m\u001B[0m\u001B[0;34m\u001B[0m\u001B[0;34m\u001B[0m\u001B[0m\n\u001B[0;32m--> 184\u001B[0;31m                 \u001B[0mDatasetCatalog\u001B[0m\u001B[0;34m.\u001B[0m\u001B[0mregister\u001B[0m\u001B[0;34m(\u001B[0m\u001B[0;34m\"resection_\"\u001B[0m \u001B[0;34m+\u001B[0m \u001B[0md\u001B[0m\u001B[0;34m,\u001B[0m \u001B[0;32mlambda\u001B[0m \u001B[0md\u001B[0m\u001B[0;34m=\u001B[0m\u001B[0md\u001B[0m\u001B[0;34m:\u001B[0m \u001B[0mself\u001B[0m\u001B[0;34m.\u001B[0m\u001B[0mget_balloon_dicts\u001B[0m\u001B[0;34m(\u001B[0m\u001B[0mpath_to_data\u001B[0m \u001B[0;34m+\u001B[0m \u001B[0md\u001B[0m\u001B[0;34m)\u001B[0m\u001B[0;34m)\u001B[0m\u001B[0;34m\u001B[0m\u001B[0;34m\u001B[0m\u001B[0m\n\u001B[0m\u001B[1;32m    185\u001B[0m                 \u001B[0mMetadataCatalog\u001B[0m\u001B[0;34m.\u001B[0m\u001B[0mget\u001B[0m\u001B[0;34m(\u001B[0m\u001B[0;34m\"resection_\"\u001B[0m \u001B[0;34m+\u001B[0m \u001B[0md\u001B[0m\u001B[0;34m)\u001B[0m\u001B[0;34m.\u001B[0m\u001B[0mset\u001B[0m\u001B[0;34m(\u001B[0m\u001B[0mthing_classes\u001B[0m\u001B[0;34m=\u001B[0m\u001B[0mclasses_list\u001B[0m\u001B[0;34m)\u001B[0m\u001B[0;34m\u001B[0m\u001B[0;34m\u001B[0m\u001B[0m\n\u001B[1;32m    186\u001B[0m             \u001B[0minstruments_metadata\u001B[0m \u001B[0;34m=\u001B[0m \u001B[0mMetadataCatalog\u001B[0m\u001B[0;34m.\u001B[0m\u001B[0mget\u001B[0m\u001B[0;34m(\u001B[0m\u001B[0;34m\"resection_train\"\u001B[0m\u001B[0;34m)\u001B[0m\u001B[0;34m\u001B[0m\u001B[0;34m\u001B[0m\u001B[0m\n",
      "\u001B[0;32m~/Github/chirurgie_research/venv/lib/python3.8/site-packages/detectron2/data/catalog.py\u001B[0m in \u001B[0;36mregister\u001B[0;34m(name, func)\u001B[0m\n\u001B[1;32m     37\u001B[0m         \"\"\"\n\u001B[1;32m     38\u001B[0m         \u001B[0;32massert\u001B[0m \u001B[0mcallable\u001B[0m\u001B[0;34m(\u001B[0m\u001B[0mfunc\u001B[0m\u001B[0;34m)\u001B[0m\u001B[0;34m,\u001B[0m \u001B[0;34m\"You must register a function with `DatasetCatalog.register`!\"\u001B[0m\u001B[0;34m\u001B[0m\u001B[0;34m\u001B[0m\u001B[0m\n\u001B[0;32m---> 39\u001B[0;31m         assert name not in DatasetCatalog._REGISTERED, \"Dataset '{}' is already registered!\".format(\n\u001B[0m\u001B[1;32m     40\u001B[0m             \u001B[0mname\u001B[0m\u001B[0;34m\u001B[0m\u001B[0;34m\u001B[0m\u001B[0m\n\u001B[1;32m     41\u001B[0m         )\n",
      "\u001B[0;31mAssertionError\u001B[0m: Dataset 'resection_train' is already registered!"
     ]
    }
   ],
   "source": [
    "from detectron.detectron2_run import start_training\n",
    "start_training(yaml_config=config,\n",
    "                   train=True,\n",
    "                   validation=False)\n"
   ],
   "metadata": {
    "collapsed": false,
    "pycharm": {
     "name": "#%%\n"
    }
   }
  },
  {
   "cell_type": "markdown",
   "source": [
    "# Validation"
   ],
   "metadata": {
    "collapsed": false
   }
  },
  {
   "cell_type": "markdown",
   "source": [
    "For the validation the weights `/detectron/output/crossval_full/20190917/` and the actual saved weights like `model_final_FIRST_INCISION_20190917.pth`\n",
    "When the weights are loaded successfully, than\n",
    "`taken ../detectron/output/crossval_full/20190917/model_final_FIRST_INCISION_20190917.pth` will be printed."
   ],
   "metadata": {
    "collapsed": false,
    "pycharm": {
     "name": "#%% md\n"
    }
   }
  },
  {
   "cell_type": "code",
   "execution_count": 4,
   "outputs": [
    {
     "name": "stderr",
     "output_type": "stream",
     "text": [
      "100%|██████████| 10/10 [00:01<00:00,  6.52it/s]\n"
     ]
    },
    {
     "name": "stdout",
     "output_type": "stream",
     "text": [
      "Took: ../data/output/crossval_full/20190917/train/20200504_FIRST_INCISION_00026.png\n",
      "wrote to ./output/crossval_full/20190917/img/20200504_FIRST_INCISION_00026.png\n",
      "Took: ../data/output/crossval_full/20190917/train/20200423_FIRST_INCISION_00036.png\n",
      "wrote to ./output/crossval_full/20190917/img/20200423_FIRST_INCISION_00036.png\n",
      "Took: ../data/output/crossval_full/20190917/train/20200416_FIRST_INCISION_00039.png\n",
      "wrote to ./output/crossval_full/20190917/img/20200416_FIRST_INCISION_00039.png\n",
      "Took: ../data/output/crossval_full/20190917/train/20200504_FIRST_INCISION_00035.png\n",
      "wrote to ./output/crossval_full/20190917/img/20200504_FIRST_INCISION_00035.png\n",
      "Took: ../data/output/crossval_full/20190917/train/20200622_FIRST_INCISION_00020.png\n",
      "wrote to ./output/crossval_full/20190917/img/20200622_FIRST_INCISION_00020.png\n",
      "Took: ../data/output/crossval_full/20190917/train/20200427_FIRST_INCISION_00041.png\n",
      "wrote to ./output/crossval_full/20190917/img/20200427_FIRST_INCISION_00041.png\n",
      "Took: ../data/output/crossval_full/20190917/train/20200423_FIRST_INCISION_00004.png\n",
      "wrote to ./output/crossval_full/20190917/img/20200423_FIRST_INCISION_00004.png\n",
      "Took: ../data/output/crossval_full/20190917/train/20200302_FIRST_INCISION_00021.png\n",
      "wrote to ./output/crossval_full/20190917/img/20200302_FIRST_INCISION_00021.png\n",
      "Took: ../data/output/crossval_full/20190917/train/20200416_FIRST_INCISION_00003.png\n",
      "wrote to ./output/crossval_full/20190917/img/20200416_FIRST_INCISION_00003.png\n",
      "Took: ../data/output/crossval_full/20190917/train/20200504_FIRST_INCISION_00024.png\n",
      "wrote to ./output/crossval_full/20190917/img/20200504_FIRST_INCISION_00024.png\n",
      "taken ../detectron/output/crossval_full/20190917/model_final_FIRST_INCISION_20190917.pth\n"
     ]
    },
    {
     "ename": "IndexError",
     "evalue": "index 0 is out of bounds for dimension 0 with size 0",
     "output_type": "error",
     "traceback": [
      "\u001B[0;31m---------------------------------------------------------------------------\u001B[0m",
      "\u001B[0;31mIndexError\u001B[0m                                Traceback (most recent call last)",
      "\u001B[0;32m<ipython-input-4-3e25b5e8bd7d>\u001B[0m in \u001B[0;36m<module>\u001B[0;34m\u001B[0m\n\u001B[1;32m      1\u001B[0m \u001B[0;32mfrom\u001B[0m \u001B[0mdetectron\u001B[0m\u001B[0;34m.\u001B[0m\u001B[0mdetectron2_run\u001B[0m \u001B[0;32mimport\u001B[0m \u001B[0mstart_training\u001B[0m\u001B[0;34m\u001B[0m\u001B[0;34m\u001B[0m\u001B[0m\n\u001B[0;32m----> 2\u001B[0;31m start_training(yaml_config=config,\n\u001B[0m\u001B[1;32m      3\u001B[0m                    \u001B[0mtrain\u001B[0m\u001B[0;34m=\u001B[0m\u001B[0;32mFalse\u001B[0m\u001B[0;34m,\u001B[0m\u001B[0;34m\u001B[0m\u001B[0;34m\u001B[0m\u001B[0m\n\u001B[1;32m      4\u001B[0m                    validation=True)\n",
      "\u001B[0;32m~/Github/chirurgie_research/detectron/detectron2_run.py\u001B[0m in \u001B[0;36mstart_training\u001B[0;34m(yaml_config, train, validation)\u001B[0m\n\u001B[1;32m    304\u001B[0m \u001B[0;34m\u001B[0m\u001B[0m\n\u001B[1;32m    305\u001B[0m     \u001B[0;32mif\u001B[0m \u001B[0mvalidation\u001B[0m\u001B[0;34m:\u001B[0m\u001B[0;34m\u001B[0m\u001B[0;34m\u001B[0m\u001B[0m\n\u001B[0;32m--> 306\u001B[0;31m         evaluation_obj.inference_on_trained_mode(\n\u001B[0m\u001B[1;32m    307\u001B[0m             \u001B[0minstruments_metadata\u001B[0m\u001B[0;34m,\u001B[0m\u001B[0;34m\u001B[0m\u001B[0;34m\u001B[0m\u001B[0m\n\u001B[1;32m    308\u001B[0m             \u001B[0mpath_to_data\u001B[0m\u001B[0;34m,\u001B[0m\u001B[0;34m\u001B[0m\u001B[0;34m\u001B[0m\u001B[0m\n",
      "\u001B[0;32m~/Github/chirurgie_research/detectron/detectron2_evaluation.py\u001B[0m in \u001B[0;36minference_on_trained_mode\u001B[0;34m(self, instruments_metadata, path_to_data, json_description, model_location, visualise)\u001B[0m\n\u001B[1;32m    713\u001B[0m         \u001B[0mself\u001B[0m\u001B[0;34m.\u001B[0m\u001B[0mcfg\u001B[0m\u001B[0;34m.\u001B[0m\u001B[0mDATASETS\u001B[0m\u001B[0;34m.\u001B[0m\u001B[0mTEST\u001B[0m \u001B[0;34m=\u001B[0m \u001B[0;34m(\u001B[0m\u001B[0;34m\"resection_val\"\u001B[0m\u001B[0;34m,\u001B[0m\u001B[0;34m)\u001B[0m\u001B[0;34m\u001B[0m\u001B[0;34m\u001B[0m\u001B[0m\n\u001B[1;32m    714\u001B[0m         \u001B[0;31m# cfg.DATASETS.TEST = (\"resection_train\",)\u001B[0m\u001B[0;34m\u001B[0m\u001B[0;34m\u001B[0m\u001B[0;34m\u001B[0m\u001B[0m\n\u001B[0;32m--> 715\u001B[0;31m         \u001B[0mpredictor\u001B[0m \u001B[0;34m=\u001B[0m \u001B[0mDefaultPredictor\u001B[0m\u001B[0;34m(\u001B[0m\u001B[0mself\u001B[0m\u001B[0;34m.\u001B[0m\u001B[0mcfg\u001B[0m\u001B[0;34m)\u001B[0m\u001B[0;34m\u001B[0m\u001B[0;34m\u001B[0m\u001B[0m\n\u001B[0m\u001B[1;32m    716\u001B[0m         \u001B[0mjaccard_list\u001B[0m \u001B[0;34m=\u001B[0m \u001B[0;34m[\u001B[0m\u001B[0;34m]\u001B[0m\u001B[0;34m\u001B[0m\u001B[0;34m\u001B[0m\u001B[0m\n\u001B[1;32m    717\u001B[0m         \u001B[0mtraining_obj\u001B[0m \u001B[0;34m=\u001B[0m \u001B[0mtraining\u001B[0m\u001B[0;34m.\u001B[0m\u001B[0mStartTraining\u001B[0m\u001B[0;34m(\u001B[0m\u001B[0mself\u001B[0m\u001B[0;34m.\u001B[0m\u001B[0mconfig_name\u001B[0m\u001B[0;34m)\u001B[0m\u001B[0;34m\u001B[0m\u001B[0;34m\u001B[0m\u001B[0m\n",
      "\u001B[0;32m~/Github/chirurgie_research/venv/lib/python3.8/site-packages/detectron2/engine/defaults.py\u001B[0m in \u001B[0;36m__init__\u001B[0;34m(self, cfg)\u001B[0m\n\u001B[1;32m    180\u001B[0m     \u001B[0;32mdef\u001B[0m \u001B[0m__init__\u001B[0m\u001B[0;34m(\u001B[0m\u001B[0mself\u001B[0m\u001B[0;34m,\u001B[0m \u001B[0mcfg\u001B[0m\u001B[0;34m)\u001B[0m\u001B[0;34m:\u001B[0m\u001B[0;34m\u001B[0m\u001B[0;34m\u001B[0m\u001B[0m\n\u001B[1;32m    181\u001B[0m         \u001B[0mself\u001B[0m\u001B[0;34m.\u001B[0m\u001B[0mcfg\u001B[0m \u001B[0;34m=\u001B[0m \u001B[0mcfg\u001B[0m\u001B[0;34m.\u001B[0m\u001B[0mclone\u001B[0m\u001B[0;34m(\u001B[0m\u001B[0;34m)\u001B[0m  \u001B[0;31m# cfg can be modified by model\u001B[0m\u001B[0;34m\u001B[0m\u001B[0;34m\u001B[0m\u001B[0m\n\u001B[0;32m--> 182\u001B[0;31m         \u001B[0mself\u001B[0m\u001B[0;34m.\u001B[0m\u001B[0mmodel\u001B[0m \u001B[0;34m=\u001B[0m \u001B[0mbuild_model\u001B[0m\u001B[0;34m(\u001B[0m\u001B[0mself\u001B[0m\u001B[0;34m.\u001B[0m\u001B[0mcfg\u001B[0m\u001B[0;34m)\u001B[0m\u001B[0;34m\u001B[0m\u001B[0;34m\u001B[0m\u001B[0m\n\u001B[0m\u001B[1;32m    183\u001B[0m         \u001B[0mself\u001B[0m\u001B[0;34m.\u001B[0m\u001B[0mmodel\u001B[0m\u001B[0;34m.\u001B[0m\u001B[0meval\u001B[0m\u001B[0;34m(\u001B[0m\u001B[0;34m)\u001B[0m\u001B[0;34m\u001B[0m\u001B[0;34m\u001B[0m\u001B[0m\n\u001B[1;32m    184\u001B[0m         \u001B[0;32mif\u001B[0m \u001B[0mlen\u001B[0m\u001B[0;34m(\u001B[0m\u001B[0mcfg\u001B[0m\u001B[0;34m.\u001B[0m\u001B[0mDATASETS\u001B[0m\u001B[0;34m.\u001B[0m\u001B[0mTEST\u001B[0m\u001B[0;34m)\u001B[0m\u001B[0;34m:\u001B[0m\u001B[0;34m\u001B[0m\u001B[0;34m\u001B[0m\u001B[0m\n",
      "\u001B[0;32m~/Github/chirurgie_research/venv/lib/python3.8/site-packages/detectron2/modeling/meta_arch/build.py\u001B[0m in \u001B[0;36mbuild_model\u001B[0;34m(cfg)\u001B[0m\n\u001B[1;32m     19\u001B[0m     \"\"\"\n\u001B[1;32m     20\u001B[0m     \u001B[0mmeta_arch\u001B[0m \u001B[0;34m=\u001B[0m \u001B[0mcfg\u001B[0m\u001B[0;34m.\u001B[0m\u001B[0mMODEL\u001B[0m\u001B[0;34m.\u001B[0m\u001B[0mMETA_ARCHITECTURE\u001B[0m\u001B[0;34m\u001B[0m\u001B[0;34m\u001B[0m\u001B[0m\n\u001B[0;32m---> 21\u001B[0;31m     \u001B[0mmodel\u001B[0m \u001B[0;34m=\u001B[0m \u001B[0mMETA_ARCH_REGISTRY\u001B[0m\u001B[0;34m.\u001B[0m\u001B[0mget\u001B[0m\u001B[0;34m(\u001B[0m\u001B[0mmeta_arch\u001B[0m\u001B[0;34m)\u001B[0m\u001B[0;34m(\u001B[0m\u001B[0mcfg\u001B[0m\u001B[0;34m)\u001B[0m\u001B[0;34m\u001B[0m\u001B[0;34m\u001B[0m\u001B[0m\n\u001B[0m\u001B[1;32m     22\u001B[0m     \u001B[0mmodel\u001B[0m\u001B[0;34m.\u001B[0m\u001B[0mto\u001B[0m\u001B[0;34m(\u001B[0m\u001B[0mtorch\u001B[0m\u001B[0;34m.\u001B[0m\u001B[0mdevice\u001B[0m\u001B[0;34m(\u001B[0m\u001B[0mcfg\u001B[0m\u001B[0;34m.\u001B[0m\u001B[0mMODEL\u001B[0m\u001B[0;34m.\u001B[0m\u001B[0mDEVICE\u001B[0m\u001B[0;34m)\u001B[0m\u001B[0;34m)\u001B[0m\u001B[0;34m\u001B[0m\u001B[0;34m\u001B[0m\u001B[0m\n\u001B[1;32m     23\u001B[0m     \u001B[0;32mreturn\u001B[0m \u001B[0mmodel\u001B[0m\u001B[0;34m\u001B[0m\u001B[0;34m\u001B[0m\u001B[0m\n",
      "\u001B[0;32m~/Github/chirurgie_research/venv/lib/python3.8/site-packages/detectron2/config/config.py\u001B[0m in \u001B[0;36mwrapped\u001B[0;34m(self, *args, **kwargs)\u001B[0m\n\u001B[1;32m    145\u001B[0m \u001B[0;34m\u001B[0m\u001B[0m\n\u001B[1;32m    146\u001B[0m         \u001B[0;32mif\u001B[0m \u001B[0m_called_with_cfg\u001B[0m\u001B[0;34m(\u001B[0m\u001B[0;34m*\u001B[0m\u001B[0margs\u001B[0m\u001B[0;34m,\u001B[0m \u001B[0;34m**\u001B[0m\u001B[0mkwargs\u001B[0m\u001B[0;34m)\u001B[0m\u001B[0;34m:\u001B[0m\u001B[0;34m\u001B[0m\u001B[0;34m\u001B[0m\u001B[0m\n\u001B[0;32m--> 147\u001B[0;31m             \u001B[0mexplicit_args\u001B[0m \u001B[0;34m=\u001B[0m \u001B[0m_get_args_from_config\u001B[0m\u001B[0;34m(\u001B[0m\u001B[0mfrom_config_func\u001B[0m\u001B[0;34m,\u001B[0m \u001B[0;34m*\u001B[0m\u001B[0margs\u001B[0m\u001B[0;34m,\u001B[0m \u001B[0;34m**\u001B[0m\u001B[0mkwargs\u001B[0m\u001B[0;34m)\u001B[0m\u001B[0;34m\u001B[0m\u001B[0;34m\u001B[0m\u001B[0m\n\u001B[0m\u001B[1;32m    148\u001B[0m             \u001B[0minit_func\u001B[0m\u001B[0;34m(\u001B[0m\u001B[0mself\u001B[0m\u001B[0;34m,\u001B[0m \u001B[0;34m**\u001B[0m\u001B[0mexplicit_args\u001B[0m\u001B[0;34m)\u001B[0m\u001B[0;34m\u001B[0m\u001B[0;34m\u001B[0m\u001B[0m\n\u001B[1;32m    149\u001B[0m         \u001B[0;32melse\u001B[0m\u001B[0;34m:\u001B[0m\u001B[0;34m\u001B[0m\u001B[0;34m\u001B[0m\u001B[0m\n",
      "\u001B[0;32m~/Github/chirurgie_research/venv/lib/python3.8/site-packages/detectron2/config/config.py\u001B[0m in \u001B[0;36m_get_args_from_config\u001B[0;34m(from_config_func, *args, **kwargs)\u001B[0m\n\u001B[1;32m    178\u001B[0m             \u001B[0;32mif\u001B[0m \u001B[0mname\u001B[0m \u001B[0;32mnot\u001B[0m \u001B[0;32min\u001B[0m \u001B[0msupported_arg_names\u001B[0m\u001B[0;34m:\u001B[0m\u001B[0;34m\u001B[0m\u001B[0;34m\u001B[0m\u001B[0m\n\u001B[1;32m    179\u001B[0m                 \u001B[0mextra_kwargs\u001B[0m\u001B[0;34m[\u001B[0m\u001B[0mname\u001B[0m\u001B[0;34m]\u001B[0m \u001B[0;34m=\u001B[0m \u001B[0mkwargs\u001B[0m\u001B[0;34m.\u001B[0m\u001B[0mpop\u001B[0m\u001B[0;34m(\u001B[0m\u001B[0mname\u001B[0m\u001B[0;34m)\u001B[0m\u001B[0;34m\u001B[0m\u001B[0;34m\u001B[0m\u001B[0m\n\u001B[0;32m--> 180\u001B[0;31m         \u001B[0mret\u001B[0m \u001B[0;34m=\u001B[0m \u001B[0mfrom_config_func\u001B[0m\u001B[0;34m(\u001B[0m\u001B[0;34m*\u001B[0m\u001B[0margs\u001B[0m\u001B[0;34m,\u001B[0m \u001B[0;34m**\u001B[0m\u001B[0mkwargs\u001B[0m\u001B[0;34m)\u001B[0m\u001B[0;34m\u001B[0m\u001B[0;34m\u001B[0m\u001B[0m\n\u001B[0m\u001B[1;32m    181\u001B[0m         \u001B[0;31m# forward the other arguments to __init__\u001B[0m\u001B[0;34m\u001B[0m\u001B[0;34m\u001B[0m\u001B[0;34m\u001B[0m\u001B[0m\n\u001B[1;32m    182\u001B[0m         \u001B[0mret\u001B[0m\u001B[0;34m.\u001B[0m\u001B[0mupdate\u001B[0m\u001B[0;34m(\u001B[0m\u001B[0mextra_kwargs\u001B[0m\u001B[0;34m)\u001B[0m\u001B[0;34m\u001B[0m\u001B[0;34m\u001B[0m\u001B[0m\n",
      "\u001B[0;32m~/Github/chirurgie_research/venv/lib/python3.8/site-packages/detectron2/modeling/meta_arch/rcnn.py\u001B[0m in \u001B[0;36mfrom_config\u001B[0;34m(cls, cfg)\u001B[0m\n\u001B[1;32m     77\u001B[0m             \u001B[0;34m\"backbone\"\u001B[0m\u001B[0;34m:\u001B[0m \u001B[0mbackbone\u001B[0m\u001B[0;34m,\u001B[0m\u001B[0;34m\u001B[0m\u001B[0;34m\u001B[0m\u001B[0m\n\u001B[1;32m     78\u001B[0m             \u001B[0;34m\"proposal_generator\"\u001B[0m\u001B[0;34m:\u001B[0m \u001B[0mbuild_proposal_generator\u001B[0m\u001B[0;34m(\u001B[0m\u001B[0mcfg\u001B[0m\u001B[0;34m,\u001B[0m \u001B[0mbackbone\u001B[0m\u001B[0;34m.\u001B[0m\u001B[0moutput_shape\u001B[0m\u001B[0;34m(\u001B[0m\u001B[0;34m)\u001B[0m\u001B[0;34m)\u001B[0m\u001B[0;34m,\u001B[0m\u001B[0;34m\u001B[0m\u001B[0;34m\u001B[0m\u001B[0m\n\u001B[0;32m---> 79\u001B[0;31m             \u001B[0;34m\"roi_heads\"\u001B[0m\u001B[0;34m:\u001B[0m \u001B[0mbuild_roi_heads\u001B[0m\u001B[0;34m(\u001B[0m\u001B[0mcfg\u001B[0m\u001B[0;34m,\u001B[0m \u001B[0mbackbone\u001B[0m\u001B[0;34m.\u001B[0m\u001B[0moutput_shape\u001B[0m\u001B[0;34m(\u001B[0m\u001B[0;34m)\u001B[0m\u001B[0;34m)\u001B[0m\u001B[0;34m,\u001B[0m\u001B[0;34m\u001B[0m\u001B[0;34m\u001B[0m\u001B[0m\n\u001B[0m\u001B[1;32m     80\u001B[0m             \u001B[0;34m\"input_format\"\u001B[0m\u001B[0;34m:\u001B[0m \u001B[0mcfg\u001B[0m\u001B[0;34m.\u001B[0m\u001B[0mINPUT\u001B[0m\u001B[0;34m.\u001B[0m\u001B[0mFORMAT\u001B[0m\u001B[0;34m,\u001B[0m\u001B[0;34m\u001B[0m\u001B[0;34m\u001B[0m\u001B[0m\n\u001B[1;32m     81\u001B[0m             \u001B[0;34m\"vis_period\"\u001B[0m\u001B[0;34m:\u001B[0m \u001B[0mcfg\u001B[0m\u001B[0;34m.\u001B[0m\u001B[0mVIS_PERIOD\u001B[0m\u001B[0;34m,\u001B[0m\u001B[0;34m\u001B[0m\u001B[0;34m\u001B[0m\u001B[0m\n",
      "\u001B[0;32m~/Github/chirurgie_research/venv/lib/python3.8/site-packages/detectron2/modeling/roi_heads/roi_heads.py\u001B[0m in \u001B[0;36mbuild_roi_heads\u001B[0;34m(cfg, input_shape)\u001B[0m\n\u001B[1;32m     41\u001B[0m     \"\"\"\n\u001B[1;32m     42\u001B[0m     \u001B[0mname\u001B[0m \u001B[0;34m=\u001B[0m \u001B[0mcfg\u001B[0m\u001B[0;34m.\u001B[0m\u001B[0mMODEL\u001B[0m\u001B[0;34m.\u001B[0m\u001B[0mROI_HEADS\u001B[0m\u001B[0;34m.\u001B[0m\u001B[0mNAME\u001B[0m\u001B[0;34m\u001B[0m\u001B[0;34m\u001B[0m\u001B[0m\n\u001B[0;32m---> 43\u001B[0;31m     \u001B[0;32mreturn\u001B[0m \u001B[0mROI_HEADS_REGISTRY\u001B[0m\u001B[0;34m.\u001B[0m\u001B[0mget\u001B[0m\u001B[0;34m(\u001B[0m\u001B[0mname\u001B[0m\u001B[0;34m)\u001B[0m\u001B[0;34m(\u001B[0m\u001B[0mcfg\u001B[0m\u001B[0;34m,\u001B[0m \u001B[0minput_shape\u001B[0m\u001B[0;34m)\u001B[0m\u001B[0;34m\u001B[0m\u001B[0;34m\u001B[0m\u001B[0m\n\u001B[0m\u001B[1;32m     44\u001B[0m \u001B[0;34m\u001B[0m\u001B[0m\n\u001B[1;32m     45\u001B[0m \u001B[0;34m\u001B[0m\u001B[0m\n",
      "\u001B[0;32m~/Github/chirurgie_research/venv/lib/python3.8/site-packages/detectron2/config/config.py\u001B[0m in \u001B[0;36mwrapped\u001B[0;34m(self, *args, **kwargs)\u001B[0m\n\u001B[1;32m    145\u001B[0m \u001B[0;34m\u001B[0m\u001B[0m\n\u001B[1;32m    146\u001B[0m         \u001B[0;32mif\u001B[0m \u001B[0m_called_with_cfg\u001B[0m\u001B[0;34m(\u001B[0m\u001B[0;34m*\u001B[0m\u001B[0margs\u001B[0m\u001B[0;34m,\u001B[0m \u001B[0;34m**\u001B[0m\u001B[0mkwargs\u001B[0m\u001B[0;34m)\u001B[0m\u001B[0;34m:\u001B[0m\u001B[0;34m\u001B[0m\u001B[0;34m\u001B[0m\u001B[0m\n\u001B[0;32m--> 147\u001B[0;31m             \u001B[0mexplicit_args\u001B[0m \u001B[0;34m=\u001B[0m \u001B[0m_get_args_from_config\u001B[0m\u001B[0;34m(\u001B[0m\u001B[0mfrom_config_func\u001B[0m\u001B[0;34m,\u001B[0m \u001B[0;34m*\u001B[0m\u001B[0margs\u001B[0m\u001B[0;34m,\u001B[0m \u001B[0;34m**\u001B[0m\u001B[0mkwargs\u001B[0m\u001B[0;34m)\u001B[0m\u001B[0;34m\u001B[0m\u001B[0;34m\u001B[0m\u001B[0m\n\u001B[0m\u001B[1;32m    148\u001B[0m             \u001B[0minit_func\u001B[0m\u001B[0;34m(\u001B[0m\u001B[0mself\u001B[0m\u001B[0;34m,\u001B[0m \u001B[0;34m**\u001B[0m\u001B[0mexplicit_args\u001B[0m\u001B[0;34m)\u001B[0m\u001B[0;34m\u001B[0m\u001B[0;34m\u001B[0m\u001B[0m\n\u001B[1;32m    149\u001B[0m         \u001B[0;32melse\u001B[0m\u001B[0;34m:\u001B[0m\u001B[0;34m\u001B[0m\u001B[0;34m\u001B[0m\u001B[0m\n",
      "\u001B[0;32m~/Github/chirurgie_research/venv/lib/python3.8/site-packages/detectron2/config/config.py\u001B[0m in \u001B[0;36m_get_args_from_config\u001B[0;34m(from_config_func, *args, **kwargs)\u001B[0m\n\u001B[1;32m    178\u001B[0m             \u001B[0;32mif\u001B[0m \u001B[0mname\u001B[0m \u001B[0;32mnot\u001B[0m \u001B[0;32min\u001B[0m \u001B[0msupported_arg_names\u001B[0m\u001B[0;34m:\u001B[0m\u001B[0;34m\u001B[0m\u001B[0;34m\u001B[0m\u001B[0m\n\u001B[1;32m    179\u001B[0m                 \u001B[0mextra_kwargs\u001B[0m\u001B[0;34m[\u001B[0m\u001B[0mname\u001B[0m\u001B[0;34m]\u001B[0m \u001B[0;34m=\u001B[0m \u001B[0mkwargs\u001B[0m\u001B[0;34m.\u001B[0m\u001B[0mpop\u001B[0m\u001B[0;34m(\u001B[0m\u001B[0mname\u001B[0m\u001B[0;34m)\u001B[0m\u001B[0;34m\u001B[0m\u001B[0;34m\u001B[0m\u001B[0m\n\u001B[0;32m--> 180\u001B[0;31m         \u001B[0mret\u001B[0m \u001B[0;34m=\u001B[0m \u001B[0mfrom_config_func\u001B[0m\u001B[0;34m(\u001B[0m\u001B[0;34m*\u001B[0m\u001B[0margs\u001B[0m\u001B[0;34m,\u001B[0m \u001B[0;34m**\u001B[0m\u001B[0mkwargs\u001B[0m\u001B[0;34m)\u001B[0m\u001B[0;34m\u001B[0m\u001B[0;34m\u001B[0m\u001B[0m\n\u001B[0m\u001B[1;32m    181\u001B[0m         \u001B[0;31m# forward the other arguments to __init__\u001B[0m\u001B[0;34m\u001B[0m\u001B[0;34m\u001B[0m\u001B[0;34m\u001B[0m\u001B[0m\n\u001B[1;32m    182\u001B[0m         \u001B[0mret\u001B[0m\u001B[0;34m.\u001B[0m\u001B[0mupdate\u001B[0m\u001B[0;34m(\u001B[0m\u001B[0mextra_kwargs\u001B[0m\u001B[0;34m)\u001B[0m\u001B[0;34m\u001B[0m\u001B[0;34m\u001B[0m\u001B[0m\n",
      "\u001B[0;32m~/Github/chirurgie_research/venv/lib/python3.8/site-packages/detectron2/modeling/roi_heads/roi_heads.py\u001B[0m in \u001B[0;36mfrom_config\u001B[0;34m(cls, cfg, input_shape)\u001B[0m\n\u001B[1;32m    553\u001B[0m             \u001B[0mret\u001B[0m\u001B[0;34m.\u001B[0m\u001B[0mupdate\u001B[0m\u001B[0;34m(\u001B[0m\u001B[0mcls\u001B[0m\u001B[0;34m.\u001B[0m\u001B[0m_init_box_head\u001B[0m\u001B[0;34m(\u001B[0m\u001B[0mcfg\u001B[0m\u001B[0;34m,\u001B[0m \u001B[0minput_shape\u001B[0m\u001B[0;34m)\u001B[0m\u001B[0;34m)\u001B[0m\u001B[0;34m\u001B[0m\u001B[0;34m\u001B[0m\u001B[0m\n\u001B[1;32m    554\u001B[0m         \u001B[0;32mif\u001B[0m \u001B[0minspect\u001B[0m\u001B[0;34m.\u001B[0m\u001B[0mismethod\u001B[0m\u001B[0;34m(\u001B[0m\u001B[0mcls\u001B[0m\u001B[0;34m.\u001B[0m\u001B[0m_init_mask_head\u001B[0m\u001B[0;34m)\u001B[0m\u001B[0;34m:\u001B[0m\u001B[0;34m\u001B[0m\u001B[0;34m\u001B[0m\u001B[0m\n\u001B[0;32m--> 555\u001B[0;31m             \u001B[0mret\u001B[0m\u001B[0;34m.\u001B[0m\u001B[0mupdate\u001B[0m\u001B[0;34m(\u001B[0m\u001B[0mcls\u001B[0m\u001B[0;34m.\u001B[0m\u001B[0m_init_mask_head\u001B[0m\u001B[0;34m(\u001B[0m\u001B[0mcfg\u001B[0m\u001B[0;34m,\u001B[0m \u001B[0minput_shape\u001B[0m\u001B[0;34m)\u001B[0m\u001B[0;34m)\u001B[0m\u001B[0;34m\u001B[0m\u001B[0;34m\u001B[0m\u001B[0m\n\u001B[0m\u001B[1;32m    556\u001B[0m         \u001B[0;32mif\u001B[0m \u001B[0minspect\u001B[0m\u001B[0;34m.\u001B[0m\u001B[0mismethod\u001B[0m\u001B[0;34m(\u001B[0m\u001B[0mcls\u001B[0m\u001B[0;34m.\u001B[0m\u001B[0m_init_keypoint_head\u001B[0m\u001B[0;34m)\u001B[0m\u001B[0;34m:\u001B[0m\u001B[0;34m\u001B[0m\u001B[0;34m\u001B[0m\u001B[0m\n\u001B[1;32m    557\u001B[0m             \u001B[0mret\u001B[0m\u001B[0;34m.\u001B[0m\u001B[0mupdate\u001B[0m\u001B[0;34m(\u001B[0m\u001B[0mcls\u001B[0m\u001B[0;34m.\u001B[0m\u001B[0m_init_keypoint_head\u001B[0m\u001B[0;34m(\u001B[0m\u001B[0mcfg\u001B[0m\u001B[0;34m,\u001B[0m \u001B[0minput_shape\u001B[0m\u001B[0;34m)\u001B[0m\u001B[0;34m)\u001B[0m\u001B[0;34m\u001B[0m\u001B[0;34m\u001B[0m\u001B[0m\n",
      "\u001B[0;32m~/Github/chirurgie_research/venv/lib/python3.8/site-packages/detectron2/modeling/roi_heads/roi_heads.py\u001B[0m in \u001B[0;36m_init_mask_head\u001B[0;34m(cls, cfg, input_shape)\u001B[0m\n\u001B[1;32m    616\u001B[0m             \u001B[0mpooler_type\u001B[0m\u001B[0;34m=\u001B[0m\u001B[0mpooler_type\u001B[0m\u001B[0;34m,\u001B[0m\u001B[0;34m\u001B[0m\u001B[0;34m\u001B[0m\u001B[0m\n\u001B[1;32m    617\u001B[0m         )\n\u001B[0;32m--> 618\u001B[0;31m         ret[\"mask_head\"] = build_mask_head(\n\u001B[0m\u001B[1;32m    619\u001B[0m             \u001B[0mcfg\u001B[0m\u001B[0;34m,\u001B[0m \u001B[0mShapeSpec\u001B[0m\u001B[0;34m(\u001B[0m\u001B[0mchannels\u001B[0m\u001B[0;34m=\u001B[0m\u001B[0min_channels\u001B[0m\u001B[0;34m,\u001B[0m \u001B[0mwidth\u001B[0m\u001B[0;34m=\u001B[0m\u001B[0mpooler_resolution\u001B[0m\u001B[0;34m,\u001B[0m \u001B[0mheight\u001B[0m\u001B[0;34m=\u001B[0m\u001B[0mpooler_resolution\u001B[0m\u001B[0;34m)\u001B[0m\u001B[0;34m\u001B[0m\u001B[0;34m\u001B[0m\u001B[0m\n\u001B[1;32m    620\u001B[0m         )\n",
      "\u001B[0;32m~/Github/chirurgie_research/venv/lib/python3.8/site-packages/detectron2/modeling/roi_heads/mask_head.py\u001B[0m in \u001B[0;36mbuild_mask_head\u001B[0;34m(cfg, input_shape)\u001B[0m\n\u001B[1;32m    283\u001B[0m     \"\"\"\n\u001B[1;32m    284\u001B[0m     \u001B[0mname\u001B[0m \u001B[0;34m=\u001B[0m \u001B[0mcfg\u001B[0m\u001B[0;34m.\u001B[0m\u001B[0mMODEL\u001B[0m\u001B[0;34m.\u001B[0m\u001B[0mROI_MASK_HEAD\u001B[0m\u001B[0;34m.\u001B[0m\u001B[0mNAME\u001B[0m\u001B[0;34m\u001B[0m\u001B[0;34m\u001B[0m\u001B[0m\n\u001B[0;32m--> 285\u001B[0;31m     \u001B[0;32mreturn\u001B[0m \u001B[0mROI_MASK_HEAD_REGISTRY\u001B[0m\u001B[0;34m.\u001B[0m\u001B[0mget\u001B[0m\u001B[0;34m(\u001B[0m\u001B[0mname\u001B[0m\u001B[0;34m)\u001B[0m\u001B[0;34m(\u001B[0m\u001B[0mcfg\u001B[0m\u001B[0;34m,\u001B[0m \u001B[0minput_shape\u001B[0m\u001B[0;34m)\u001B[0m\u001B[0;34m\u001B[0m\u001B[0;34m\u001B[0m\u001B[0m\n\u001B[0m",
      "\u001B[0;32m~/Github/chirurgie_research/venv/lib/python3.8/site-packages/detectron2/config/config.py\u001B[0m in \u001B[0;36mwrapped\u001B[0;34m(self, *args, **kwargs)\u001B[0m\n\u001B[1;32m    146\u001B[0m         \u001B[0;32mif\u001B[0m \u001B[0m_called_with_cfg\u001B[0m\u001B[0;34m(\u001B[0m\u001B[0;34m*\u001B[0m\u001B[0margs\u001B[0m\u001B[0;34m,\u001B[0m \u001B[0;34m**\u001B[0m\u001B[0mkwargs\u001B[0m\u001B[0;34m)\u001B[0m\u001B[0;34m:\u001B[0m\u001B[0;34m\u001B[0m\u001B[0;34m\u001B[0m\u001B[0m\n\u001B[1;32m    147\u001B[0m             \u001B[0mexplicit_args\u001B[0m \u001B[0;34m=\u001B[0m \u001B[0m_get_args_from_config\u001B[0m\u001B[0;34m(\u001B[0m\u001B[0mfrom_config_func\u001B[0m\u001B[0;34m,\u001B[0m \u001B[0;34m*\u001B[0m\u001B[0margs\u001B[0m\u001B[0;34m,\u001B[0m \u001B[0;34m**\u001B[0m\u001B[0mkwargs\u001B[0m\u001B[0;34m)\u001B[0m\u001B[0;34m\u001B[0m\u001B[0;34m\u001B[0m\u001B[0m\n\u001B[0;32m--> 148\u001B[0;31m             \u001B[0minit_func\u001B[0m\u001B[0;34m(\u001B[0m\u001B[0mself\u001B[0m\u001B[0;34m,\u001B[0m \u001B[0;34m**\u001B[0m\u001B[0mexplicit_args\u001B[0m\u001B[0;34m)\u001B[0m\u001B[0;34m\u001B[0m\u001B[0;34m\u001B[0m\u001B[0m\n\u001B[0m\u001B[1;32m    149\u001B[0m         \u001B[0;32melse\u001B[0m\u001B[0;34m:\u001B[0m\u001B[0;34m\u001B[0m\u001B[0;34m\u001B[0m\u001B[0m\n\u001B[1;32m    150\u001B[0m             \u001B[0minit_func\u001B[0m\u001B[0;34m(\u001B[0m\u001B[0mself\u001B[0m\u001B[0;34m,\u001B[0m \u001B[0;34m*\u001B[0m\u001B[0margs\u001B[0m\u001B[0;34m,\u001B[0m \u001B[0;34m**\u001B[0m\u001B[0mkwargs\u001B[0m\u001B[0;34m)\u001B[0m\u001B[0;34m\u001B[0m\u001B[0;34m\u001B[0m\u001B[0m\n",
      "\u001B[0;32m~/Github/chirurgie_research/venv/lib/python3.8/site-packages/detectron2/modeling/roi_heads/mask_head.py\u001B[0m in \u001B[0;36m__init__\u001B[0;34m(self, input_shape, num_classes, conv_dims, conv_norm, **kwargs)\u001B[0m\n\u001B[1;32m    246\u001B[0m         \u001B[0mcur_channels\u001B[0m \u001B[0;34m=\u001B[0m \u001B[0mconv_dims\u001B[0m\u001B[0;34m[\u001B[0m\u001B[0;34m-\u001B[0m\u001B[0;36m1\u001B[0m\u001B[0;34m]\u001B[0m\u001B[0;34m\u001B[0m\u001B[0;34m\u001B[0m\u001B[0m\n\u001B[1;32m    247\u001B[0m \u001B[0;34m\u001B[0m\u001B[0m\n\u001B[0;32m--> 248\u001B[0;31m         \u001B[0mself\u001B[0m\u001B[0;34m.\u001B[0m\u001B[0mpredictor\u001B[0m \u001B[0;34m=\u001B[0m \u001B[0mConv2d\u001B[0m\u001B[0;34m(\u001B[0m\u001B[0mcur_channels\u001B[0m\u001B[0;34m,\u001B[0m \u001B[0mnum_classes\u001B[0m\u001B[0;34m,\u001B[0m \u001B[0mkernel_size\u001B[0m\u001B[0;34m=\u001B[0m\u001B[0;36m1\u001B[0m\u001B[0;34m,\u001B[0m \u001B[0mstride\u001B[0m\u001B[0;34m=\u001B[0m\u001B[0;36m1\u001B[0m\u001B[0;34m,\u001B[0m \u001B[0mpadding\u001B[0m\u001B[0;34m=\u001B[0m\u001B[0;36m0\u001B[0m\u001B[0;34m)\u001B[0m\u001B[0;34m\u001B[0m\u001B[0;34m\u001B[0m\u001B[0m\n\u001B[0m\u001B[1;32m    249\u001B[0m \u001B[0;34m\u001B[0m\u001B[0m\n\u001B[1;32m    250\u001B[0m         \u001B[0;32mfor\u001B[0m \u001B[0mlayer\u001B[0m \u001B[0;32min\u001B[0m \u001B[0mself\u001B[0m\u001B[0;34m.\u001B[0m\u001B[0mconv_norm_relus\u001B[0m \u001B[0;34m+\u001B[0m \u001B[0;34m[\u001B[0m\u001B[0mself\u001B[0m\u001B[0;34m.\u001B[0m\u001B[0mdeconv\u001B[0m\u001B[0;34m]\u001B[0m\u001B[0;34m:\u001B[0m\u001B[0;34m\u001B[0m\u001B[0;34m\u001B[0m\u001B[0m\n",
      "\u001B[0;32m~/Github/chirurgie_research/venv/lib/python3.8/site-packages/detectron2/layers/wrappers.py\u001B[0m in \u001B[0;36m__init__\u001B[0;34m(self, *args, **kwargs)\u001B[0m\n\u001B[1;32m     56\u001B[0m         \u001B[0mnorm\u001B[0m \u001B[0;34m=\u001B[0m \u001B[0mkwargs\u001B[0m\u001B[0;34m.\u001B[0m\u001B[0mpop\u001B[0m\u001B[0;34m(\u001B[0m\u001B[0;34m\"norm\"\u001B[0m\u001B[0;34m,\u001B[0m \u001B[0;32mNone\u001B[0m\u001B[0;34m)\u001B[0m\u001B[0;34m\u001B[0m\u001B[0;34m\u001B[0m\u001B[0m\n\u001B[1;32m     57\u001B[0m         \u001B[0mactivation\u001B[0m \u001B[0;34m=\u001B[0m \u001B[0mkwargs\u001B[0m\u001B[0;34m.\u001B[0m\u001B[0mpop\u001B[0m\u001B[0;34m(\u001B[0m\u001B[0;34m\"activation\"\u001B[0m\u001B[0;34m,\u001B[0m \u001B[0;32mNone\u001B[0m\u001B[0;34m)\u001B[0m\u001B[0;34m\u001B[0m\u001B[0;34m\u001B[0m\u001B[0m\n\u001B[0;32m---> 58\u001B[0;31m         \u001B[0msuper\u001B[0m\u001B[0;34m(\u001B[0m\u001B[0;34m)\u001B[0m\u001B[0;34m.\u001B[0m\u001B[0m__init__\u001B[0m\u001B[0;34m(\u001B[0m\u001B[0;34m*\u001B[0m\u001B[0margs\u001B[0m\u001B[0;34m,\u001B[0m \u001B[0;34m**\u001B[0m\u001B[0mkwargs\u001B[0m\u001B[0;34m)\u001B[0m\u001B[0;34m\u001B[0m\u001B[0;34m\u001B[0m\u001B[0m\n\u001B[0m\u001B[1;32m     59\u001B[0m \u001B[0;34m\u001B[0m\u001B[0m\n\u001B[1;32m     60\u001B[0m         \u001B[0mself\u001B[0m\u001B[0;34m.\u001B[0m\u001B[0mnorm\u001B[0m \u001B[0;34m=\u001B[0m \u001B[0mnorm\u001B[0m\u001B[0;34m\u001B[0m\u001B[0;34m\u001B[0m\u001B[0m\n",
      "\u001B[0;32m~/Github/chirurgie_research/venv/lib/python3.8/site-packages/torch/nn/modules/conv.py\u001B[0m in \u001B[0;36m__init__\u001B[0;34m(self, in_channels, out_channels, kernel_size, stride, padding, dilation, groups, bias, padding_mode)\u001B[0m\n\u001B[1;32m    404\u001B[0m         \u001B[0mpadding\u001B[0m \u001B[0;34m=\u001B[0m \u001B[0m_pair\u001B[0m\u001B[0;34m(\u001B[0m\u001B[0mpadding\u001B[0m\u001B[0;34m)\u001B[0m\u001B[0;34m\u001B[0m\u001B[0;34m\u001B[0m\u001B[0m\n\u001B[1;32m    405\u001B[0m         \u001B[0mdilation\u001B[0m \u001B[0;34m=\u001B[0m \u001B[0m_pair\u001B[0m\u001B[0;34m(\u001B[0m\u001B[0mdilation\u001B[0m\u001B[0;34m)\u001B[0m\u001B[0;34m\u001B[0m\u001B[0;34m\u001B[0m\u001B[0m\n\u001B[0;32m--> 406\u001B[0;31m         super(Conv2d, self).__init__(\n\u001B[0m\u001B[1;32m    407\u001B[0m             \u001B[0min_channels\u001B[0m\u001B[0;34m,\u001B[0m \u001B[0mout_channels\u001B[0m\u001B[0;34m,\u001B[0m \u001B[0mkernel_size\u001B[0m\u001B[0;34m,\u001B[0m \u001B[0mstride\u001B[0m\u001B[0;34m,\u001B[0m \u001B[0mpadding\u001B[0m\u001B[0;34m,\u001B[0m \u001B[0mdilation\u001B[0m\u001B[0;34m,\u001B[0m\u001B[0;34m\u001B[0m\u001B[0;34m\u001B[0m\u001B[0m\n\u001B[1;32m    408\u001B[0m             False, _pair(0), groups, bias, padding_mode)\n",
      "\u001B[0;32m~/Github/chirurgie_research/venv/lib/python3.8/site-packages/torch/nn/modules/conv.py\u001B[0m in \u001B[0;36m__init__\u001B[0;34m(self, in_channels, out_channels, kernel_size, stride, padding, dilation, transposed, output_padding, groups, bias, padding_mode)\u001B[0m\n\u001B[1;32m     81\u001B[0m         \u001B[0;32melse\u001B[0m\u001B[0;34m:\u001B[0m\u001B[0;34m\u001B[0m\u001B[0;34m\u001B[0m\u001B[0m\n\u001B[1;32m     82\u001B[0m             \u001B[0mself\u001B[0m\u001B[0;34m.\u001B[0m\u001B[0mregister_parameter\u001B[0m\u001B[0;34m(\u001B[0m\u001B[0;34m'bias'\u001B[0m\u001B[0;34m,\u001B[0m \u001B[0;32mNone\u001B[0m\u001B[0;34m)\u001B[0m\u001B[0;34m\u001B[0m\u001B[0;34m\u001B[0m\u001B[0m\n\u001B[0;32m---> 83\u001B[0;31m         \u001B[0mself\u001B[0m\u001B[0;34m.\u001B[0m\u001B[0mreset_parameters\u001B[0m\u001B[0;34m(\u001B[0m\u001B[0;34m)\u001B[0m\u001B[0;34m\u001B[0m\u001B[0;34m\u001B[0m\u001B[0m\n\u001B[0m\u001B[1;32m     84\u001B[0m \u001B[0;34m\u001B[0m\u001B[0m\n\u001B[1;32m     85\u001B[0m     \u001B[0;32mdef\u001B[0m \u001B[0mreset_parameters\u001B[0m\u001B[0;34m(\u001B[0m\u001B[0mself\u001B[0m\u001B[0;34m)\u001B[0m \u001B[0;34m->\u001B[0m \u001B[0;32mNone\u001B[0m\u001B[0;34m:\u001B[0m\u001B[0;34m\u001B[0m\u001B[0;34m\u001B[0m\u001B[0m\n",
      "\u001B[0;32m~/Github/chirurgie_research/venv/lib/python3.8/site-packages/torch/nn/modules/conv.py\u001B[0m in \u001B[0;36mreset_parameters\u001B[0;34m(self)\u001B[0m\n\u001B[1;32m     84\u001B[0m \u001B[0;34m\u001B[0m\u001B[0m\n\u001B[1;32m     85\u001B[0m     \u001B[0;32mdef\u001B[0m \u001B[0mreset_parameters\u001B[0m\u001B[0;34m(\u001B[0m\u001B[0mself\u001B[0m\u001B[0;34m)\u001B[0m \u001B[0;34m->\u001B[0m \u001B[0;32mNone\u001B[0m\u001B[0;34m:\u001B[0m\u001B[0;34m\u001B[0m\u001B[0;34m\u001B[0m\u001B[0m\n\u001B[0;32m---> 86\u001B[0;31m         \u001B[0minit\u001B[0m\u001B[0;34m.\u001B[0m\u001B[0mkaiming_uniform_\u001B[0m\u001B[0;34m(\u001B[0m\u001B[0mself\u001B[0m\u001B[0;34m.\u001B[0m\u001B[0mweight\u001B[0m\u001B[0;34m,\u001B[0m \u001B[0ma\u001B[0m\u001B[0;34m=\u001B[0m\u001B[0mmath\u001B[0m\u001B[0;34m.\u001B[0m\u001B[0msqrt\u001B[0m\u001B[0;34m(\u001B[0m\u001B[0;36m5\u001B[0m\u001B[0;34m)\u001B[0m\u001B[0;34m)\u001B[0m\u001B[0;34m\u001B[0m\u001B[0;34m\u001B[0m\u001B[0m\n\u001B[0m\u001B[1;32m     87\u001B[0m         \u001B[0;32mif\u001B[0m \u001B[0mself\u001B[0m\u001B[0;34m.\u001B[0m\u001B[0mbias\u001B[0m \u001B[0;32mis\u001B[0m \u001B[0;32mnot\u001B[0m \u001B[0;32mNone\u001B[0m\u001B[0;34m:\u001B[0m\u001B[0;34m\u001B[0m\u001B[0;34m\u001B[0m\u001B[0m\n\u001B[1;32m     88\u001B[0m             \u001B[0mfan_in\u001B[0m\u001B[0;34m,\u001B[0m \u001B[0m_\u001B[0m \u001B[0;34m=\u001B[0m \u001B[0minit\u001B[0m\u001B[0;34m.\u001B[0m\u001B[0m_calculate_fan_in_and_fan_out\u001B[0m\u001B[0;34m(\u001B[0m\u001B[0mself\u001B[0m\u001B[0;34m.\u001B[0m\u001B[0mweight\u001B[0m\u001B[0;34m)\u001B[0m\u001B[0;34m\u001B[0m\u001B[0;34m\u001B[0m\u001B[0m\n",
      "\u001B[0;32m~/Github/chirurgie_research/venv/lib/python3.8/site-packages/torch/nn/init.py\u001B[0m in \u001B[0;36mkaiming_uniform_\u001B[0;34m(tensor, a, mode, nonlinearity)\u001B[0m\n\u001B[1;32m    379\u001B[0m         \u001B[0;34m>>\u001B[0m\u001B[0;34m>\u001B[0m \u001B[0mnn\u001B[0m\u001B[0;34m.\u001B[0m\u001B[0minit\u001B[0m\u001B[0;34m.\u001B[0m\u001B[0mkaiming_uniform_\u001B[0m\u001B[0;34m(\u001B[0m\u001B[0mw\u001B[0m\u001B[0;34m,\u001B[0m \u001B[0mmode\u001B[0m\u001B[0;34m=\u001B[0m\u001B[0;34m'fan_in'\u001B[0m\u001B[0;34m,\u001B[0m \u001B[0mnonlinearity\u001B[0m\u001B[0;34m=\u001B[0m\u001B[0;34m'relu'\u001B[0m\u001B[0;34m)\u001B[0m\u001B[0;34m\u001B[0m\u001B[0;34m\u001B[0m\u001B[0m\n\u001B[1;32m    380\u001B[0m     \"\"\"\n\u001B[0;32m--> 381\u001B[0;31m     \u001B[0mfan\u001B[0m \u001B[0;34m=\u001B[0m \u001B[0m_calculate_correct_fan\u001B[0m\u001B[0;34m(\u001B[0m\u001B[0mtensor\u001B[0m\u001B[0;34m,\u001B[0m \u001B[0mmode\u001B[0m\u001B[0;34m)\u001B[0m\u001B[0;34m\u001B[0m\u001B[0;34m\u001B[0m\u001B[0m\n\u001B[0m\u001B[1;32m    382\u001B[0m     \u001B[0mgain\u001B[0m \u001B[0;34m=\u001B[0m \u001B[0mcalculate_gain\u001B[0m\u001B[0;34m(\u001B[0m\u001B[0mnonlinearity\u001B[0m\u001B[0;34m,\u001B[0m \u001B[0ma\u001B[0m\u001B[0;34m)\u001B[0m\u001B[0;34m\u001B[0m\u001B[0;34m\u001B[0m\u001B[0m\n\u001B[1;32m    383\u001B[0m     \u001B[0mstd\u001B[0m \u001B[0;34m=\u001B[0m \u001B[0mgain\u001B[0m \u001B[0;34m/\u001B[0m \u001B[0mmath\u001B[0m\u001B[0;34m.\u001B[0m\u001B[0msqrt\u001B[0m\u001B[0;34m(\u001B[0m\u001B[0mfan\u001B[0m\u001B[0;34m)\u001B[0m\u001B[0;34m\u001B[0m\u001B[0;34m\u001B[0m\u001B[0m\n",
      "\u001B[0;32m~/Github/chirurgie_research/venv/lib/python3.8/site-packages/torch/nn/init.py\u001B[0m in \u001B[0;36m_calculate_correct_fan\u001B[0;34m(tensor, mode)\u001B[0m\n\u001B[1;32m    348\u001B[0m         \u001B[0;32mraise\u001B[0m \u001B[0mValueError\u001B[0m\u001B[0;34m(\u001B[0m\u001B[0;34m\"Mode {} not supported, please use one of {}\"\u001B[0m\u001B[0;34m.\u001B[0m\u001B[0mformat\u001B[0m\u001B[0;34m(\u001B[0m\u001B[0mmode\u001B[0m\u001B[0;34m,\u001B[0m \u001B[0mvalid_modes\u001B[0m\u001B[0;34m)\u001B[0m\u001B[0;34m)\u001B[0m\u001B[0;34m\u001B[0m\u001B[0;34m\u001B[0m\u001B[0m\n\u001B[1;32m    349\u001B[0m \u001B[0;34m\u001B[0m\u001B[0m\n\u001B[0;32m--> 350\u001B[0;31m     \u001B[0mfan_in\u001B[0m\u001B[0;34m,\u001B[0m \u001B[0mfan_out\u001B[0m \u001B[0;34m=\u001B[0m \u001B[0m_calculate_fan_in_and_fan_out\u001B[0m\u001B[0;34m(\u001B[0m\u001B[0mtensor\u001B[0m\u001B[0;34m)\u001B[0m\u001B[0;34m\u001B[0m\u001B[0;34m\u001B[0m\u001B[0m\n\u001B[0m\u001B[1;32m    351\u001B[0m     \u001B[0;32mreturn\u001B[0m \u001B[0mfan_in\u001B[0m \u001B[0;32mif\u001B[0m \u001B[0mmode\u001B[0m \u001B[0;34m==\u001B[0m \u001B[0;34m'fan_in'\u001B[0m \u001B[0;32melse\u001B[0m \u001B[0mfan_out\u001B[0m\u001B[0;34m\u001B[0m\u001B[0;34m\u001B[0m\u001B[0m\n\u001B[1;32m    352\u001B[0m \u001B[0;34m\u001B[0m\u001B[0m\n",
      "\u001B[0;32m~/Github/chirurgie_research/venv/lib/python3.8/site-packages/torch/nn/init.py\u001B[0m in \u001B[0;36m_calculate_fan_in_and_fan_out\u001B[0;34m(tensor)\u001B[0m\n\u001B[1;32m    280\u001B[0m     \u001B[0mreceptive_field_size\u001B[0m \u001B[0;34m=\u001B[0m \u001B[0;36m1\u001B[0m\u001B[0;34m\u001B[0m\u001B[0;34m\u001B[0m\u001B[0m\n\u001B[1;32m    281\u001B[0m     \u001B[0;32mif\u001B[0m \u001B[0mtensor\u001B[0m\u001B[0;34m.\u001B[0m\u001B[0mdim\u001B[0m\u001B[0;34m(\u001B[0m\u001B[0;34m)\u001B[0m \u001B[0;34m>\u001B[0m \u001B[0;36m2\u001B[0m\u001B[0;34m:\u001B[0m\u001B[0;34m\u001B[0m\u001B[0;34m\u001B[0m\u001B[0m\n\u001B[0;32m--> 282\u001B[0;31m         \u001B[0mreceptive_field_size\u001B[0m \u001B[0;34m=\u001B[0m \u001B[0mtensor\u001B[0m\u001B[0;34m[\u001B[0m\u001B[0;36m0\u001B[0m\u001B[0;34m]\u001B[0m\u001B[0;34m[\u001B[0m\u001B[0;36m0\u001B[0m\u001B[0;34m]\u001B[0m\u001B[0;34m.\u001B[0m\u001B[0mnumel\u001B[0m\u001B[0;34m(\u001B[0m\u001B[0;34m)\u001B[0m\u001B[0;34m\u001B[0m\u001B[0;34m\u001B[0m\u001B[0m\n\u001B[0m\u001B[1;32m    283\u001B[0m     \u001B[0mfan_in\u001B[0m \u001B[0;34m=\u001B[0m \u001B[0mnum_input_fmaps\u001B[0m \u001B[0;34m*\u001B[0m \u001B[0mreceptive_field_size\u001B[0m\u001B[0;34m\u001B[0m\u001B[0;34m\u001B[0m\u001B[0m\n\u001B[1;32m    284\u001B[0m     \u001B[0mfan_out\u001B[0m \u001B[0;34m=\u001B[0m \u001B[0mnum_output_fmaps\u001B[0m \u001B[0;34m*\u001B[0m \u001B[0mreceptive_field_size\u001B[0m\u001B[0;34m\u001B[0m\u001B[0;34m\u001B[0m\u001B[0m\n",
      "\u001B[0;31mIndexError\u001B[0m: index 0 is out of bounds for dimension 0 with size 0"
     ]
    }
   ],
   "source": [
    "from detectron.detectron2_run import start_training\n",
    "start_training(yaml_config=config,\n",
    "                   train=False,\n",
    "                   validation=True)"
   ],
   "metadata": {
    "collapsed": false,
    "pycharm": {
     "name": "#%%\n"
    }
   }
  },
  {
   "cell_type": "markdown",
   "source": [
    "# Draw resection line based on the triangle points calculation"
   ],
   "metadata": {
    "collapsed": false,
    "pycharm": {
     "name": "#%% md\n"
    }
   }
  },
  {
   "cell_type": "markdown",
   "source": [
    "Here is performed the estimation of the resection line based on the predicted mask.\n",
    "\n",
    "Please create the structure based on `/detectron/output/NAME_OP_TYPE/20190917/structure.md` **BEFORE** starting the resection line processing.\n"
   ],
   "metadata": {
    "collapsed": false,
    "pycharm": {
     "name": "#%% md\n"
    }
   }
  },
  {
   "cell_type": "code",
   "execution_count": null,
   "outputs": [],
   "source": [
    "# initialise the required parameters for resection line processing\n",
    "\n",
    "dir_to_process = \"crossval_full/20190917\"\n",
    "predicted_plane_list = sorted(glob.glob(\n",
    "    f\"./../output/{dir_to_process}/images_predicted_multilabeled/layerwise_masks/1/*.png\"))\n",
    "\n",
    "original_img_list = glob.glob(f\"./../../data/output/{dir_to_process}/val/*.png\")\n",
    "\n",
    "mapping_dict = create_plane_img_mapping(\n",
    "    predicted_plane_list, original_img_list)\n"
   ],
   "metadata": {
    "collapsed": false,
    "pycharm": {
     "name": "#%%\n"
    }
   }
  },
  {
   "cell_type": "markdown",
   "source": [
    "Besides the image an `.csv` file is created which represents the quantitative statistics of the resection line:\n",
    "- angle\n",
    "- centroid\n",
    "- end_point\n",
    "- length of the line"
   ],
   "metadata": {
    "collapsed": false,
    "pycharm": {
     "name": "#%% md\n"
    }
   }
  },
  {
   "cell_type": "code",
   "execution_count": null,
   "outputs": [],
   "source": [
    "from detectron.plane_postprocessing.triangle_points import full_process_resection_line\n",
    "\n",
    "\n",
    "full_process_resection_line(mapping_dict=mapping_dict,\n",
    "                            dir_crossval=dir_to_process,\n",
    "                            location_to_save=f'./../csv/detectron/plane_evaluation/artificial_resec_line/{dir_to_process[9:]}.json',\n",
    "                            saving_fig=True)\n"
   ],
   "metadata": {
    "collapsed": false,
    "pycharm": {
     "name": "#%%\n"
    }
   }
  }
 ],
 "metadata": {
  "kernelspec": {
   "display_name": "Python 3",
   "language": "python",
   "name": "python3"
  },
  "language_info": {
   "codemirror_mode": {
    "name": "ipython",
    "version": 2
   },
   "file_extension": ".py",
   "mimetype": "text/x-python",
   "name": "python",
   "nbconvert_exporter": "python",
   "pygments_lexer": "ipython2",
   "version": "2.7.6"
  }
 },
 "nbformat": 4,
 "nbformat_minor": 0
}